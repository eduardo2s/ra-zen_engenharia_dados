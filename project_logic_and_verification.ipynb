{
 "cells": [
  {
   "cell_type": "code",
   "execution_count": 2,
   "metadata": {},
   "outputs": [],
   "source": [
    "from subprocess import  Popen\n",
    "from os import makedirs, path\n",
    "import pandas as pd\n",
    "import urllib\n",
    "import pyarrow"
   ]
  },
  {
   "cell_type": "code",
   "execution_count": 37,
   "metadata": {},
   "outputs": [],
   "source": [
    "def download_store_file():\n",
    "    url = 'https://github.com/raizen-analytics/data-engineering-test/raw/master/assets/vendas-combustiveis-m3.xls'\n",
    "    xls_filename = url.split(\"/\")[-1]\n",
    "    xls_dir = \"./raw_data/\"\n",
    "    makedirs(xls_dir, exist_ok=True)\n",
    "    response = urllib.request.urlretrieve(url, f'{xls_dir}/{xls_filename}') \n",
    "\n",
    "download_store_file()\n",
    "\n",
    "def pre_process_file():\n",
    "    convert_dir = './converted_data'\n",
    "    file_path = \"./raw_data/vendas-combustiveis-m3.xls\"\n",
    "    makedirs(convert_dir, exist_ok=True)\n",
    "    # if you are using windows, libreoffice installation is required\n",
    "    loffice = 'C:/Program Files/LibreOffice/program/soffice.exe'\n",
    "    cmd = f\"{loffice} --headless --convert-to xls --outdir {convert_dir} {file_path}\"\n",
    "    pr = Popen(cmd.split())\n",
    "    pr.communicate()\n",
    "\n",
    "pre_process_file()\n",
    "\n",
    "def process_data(df):\n",
    "    \n",
    "    df.columns = ['combustivel', 'ano', 'região', 'uf', '1', '2', '3', '4', '5', '6', '7', '8', '9', '10', '11', '12', 'total']\n",
    "    df = df.melt(id_vars=['combustivel', 'ano', 'região', 'uf'])\n",
    "    #df_totals = df.loc[df['variable'] == 'total']\n",
    "    df = df.loc[df['variable'] != 'total']\n",
    "    df[\"year_month\"] = pd.to_datetime(df[\"ano\"].astype(str) + \"-\" + df[\"variable\"], format=\"%Y-%m\")\n",
    "    df[\"product\"] = df[\"combustivel\"].str.split(\"(\").str[0].str.strip()\n",
    "    df[\"unit\"] = df[\"combustivel\"].str.split(\"(\").str[1].replace('\\)', '', regex = True).str.strip()\n",
    "    df[\"created_at\"] = pd.Timestamp.today()\n",
    "    df = df.drop(labels=[\"combustivel\", \"ano\", \"região\", 'variable'], axis=1)\n",
    "    df.rename(columns={\"estado\": \"uf\", \"value\": \"volume\"}, inplace=True)\n",
    "    df['volume'] = pd.to_numeric(df['volume'])\n",
    "    df.fillna(0, inplace=True)\n",
    "    df = df.iloc[:, [2,0,3,4,1,5]]\n",
    "\n",
    "    return df\n",
    "\n",
    "def store_parquet(xls_sheet_name):\n",
    "    \"\"\"\n",
    "    Store the result in .parquet format\n",
    "    in this scenario we dont used partition because of the small size of the files, if that is needed use the code bellow as example:\n",
    "    df.to_parquet(f'{parquet_dir}', partition_cols=['year_month'])\n",
    "    \"\"\"\n",
    "    df = pd.read_excel('./converted_data/vendas-combustiveis-m3.xls', sheet_name=xls_sheet_name)\n",
    "    df = process_data(df)\n",
    "    p_dir = \"./partition_files/\"\n",
    "    #p_filename = \"sales_oil_derivative_fuels.parquet\"\n",
    "    p_filename = \"sales_diesel.parquet\"\n",
    "    makedirs(p_dir, exist_ok=True)\n",
    "    df.to_parquet(p_dir + p_filename)\n"
   ]
  },
  {
   "cell_type": "code",
   "execution_count": 38,
   "metadata": {},
   "outputs": [],
   "source": [
    "#store_parquet(\"DPCache_m3\")\n",
    "store_parquet(\"DPCache_m3_2\")"
   ]
  },
  {
   "cell_type": "markdown",
   "metadata": {},
   "source": [
    "## Validate Schema"
   ]
  },
  {
   "cell_type": "code",
   "execution_count": 39,
   "metadata": {},
   "outputs": [],
   "source": [
    "sales_diesel = \"./partition_files/sales_diesel.parquet\"\n",
    "sales_oil_derivative_fuels = \"./partition_files/sales_oil_derivative_fuels.parquet\"\n",
    "df_sales_diesel = pd.read_parquet(sales_diesel)\n",
    "df_sales_oil_derivative_fuels = pd.read_parquet(sales_oil_derivative_fuels)"
   ]
  },
  {
   "cell_type": "code",
   "execution_count": 40,
   "metadata": {},
   "outputs": [
    {
     "data": {
      "text/html": [
       "<div>\n",
       "<style scoped>\n",
       "    .dataframe tbody tr th:only-of-type {\n",
       "        vertical-align: middle;\n",
       "    }\n",
       "\n",
       "    .dataframe tbody tr th {\n",
       "        vertical-align: top;\n",
       "    }\n",
       "\n",
       "    .dataframe thead th {\n",
       "        text-align: right;\n",
       "    }\n",
       "</style>\n",
       "<table border=\"1\" class=\"dataframe\">\n",
       "  <thead>\n",
       "    <tr style=\"text-align: right;\">\n",
       "      <th></th>\n",
       "      <th>year_month</th>\n",
       "      <th>uf</th>\n",
       "      <th>product</th>\n",
       "      <th>unit</th>\n",
       "      <th>volume</th>\n",
       "      <th>created_at</th>\n",
       "    </tr>\n",
       "  </thead>\n",
       "  <tbody>\n",
       "    <tr>\n",
       "      <th>0</th>\n",
       "      <td>2013-01-01</td>\n",
       "      <td>RONDÔNIA</td>\n",
       "      <td>ÓLEO DIESEL S-10</td>\n",
       "      <td>m3</td>\n",
       "      <td>81453.67</td>\n",
       "      <td>2022-11-13 18:20:21.544073</td>\n",
       "    </tr>\n",
       "    <tr>\n",
       "      <th>1</th>\n",
       "      <td>2013-01-01</td>\n",
       "      <td>ACRE</td>\n",
       "      <td>ÓLEO DIESEL S-10</td>\n",
       "      <td>m3</td>\n",
       "      <td>1483.00</td>\n",
       "      <td>2022-11-13 18:20:21.544073</td>\n",
       "    </tr>\n",
       "    <tr>\n",
       "      <th>2</th>\n",
       "      <td>2013-01-01</td>\n",
       "      <td>AMAZONAS</td>\n",
       "      <td>ÓLEO DIESEL S-10</td>\n",
       "      <td>m3</td>\n",
       "      <td>6836.30</td>\n",
       "      <td>2022-11-13 18:20:21.544073</td>\n",
       "    </tr>\n",
       "    <tr>\n",
       "      <th>3</th>\n",
       "      <td>2013-01-01</td>\n",
       "      <td>RORAIMA</td>\n",
       "      <td>ÓLEO DIESEL S-10</td>\n",
       "      <td>m3</td>\n",
       "      <td>1475.30</td>\n",
       "      <td>2022-11-13 18:20:21.544073</td>\n",
       "    </tr>\n",
       "    <tr>\n",
       "      <th>4</th>\n",
       "      <td>2013-01-01</td>\n",
       "      <td>PARÁ</td>\n",
       "      <td>ÓLEO DIESEL S-10</td>\n",
       "      <td>m3</td>\n",
       "      <td>40913.48</td>\n",
       "      <td>2022-11-13 18:20:21.544073</td>\n",
       "    </tr>\n",
       "    <tr>\n",
       "      <th>...</th>\n",
       "      <td>...</td>\n",
       "      <td>...</td>\n",
       "      <td>...</td>\n",
       "      <td>...</td>\n",
       "      <td>...</td>\n",
       "      <td>...</td>\n",
       "    </tr>\n",
       "    <tr>\n",
       "      <th>12955</th>\n",
       "      <td>2020-12-01</td>\n",
       "      <td>RIO GRANDE DO SUL</td>\n",
       "      <td>ÓLEO DIESEL</td>\n",
       "      <td>OUTROS</td>\n",
       "      <td>10.00</td>\n",
       "      <td>2022-11-13 18:20:21.544073</td>\n",
       "    </tr>\n",
       "    <tr>\n",
       "      <th>12956</th>\n",
       "      <td>2020-12-01</td>\n",
       "      <td>MATO GROSSO DO SUL</td>\n",
       "      <td>ÓLEO DIESEL</td>\n",
       "      <td>OUTROS</td>\n",
       "      <td>0.00</td>\n",
       "      <td>2022-11-13 18:20:21.544073</td>\n",
       "    </tr>\n",
       "    <tr>\n",
       "      <th>12957</th>\n",
       "      <td>2020-12-01</td>\n",
       "      <td>MATO GROSSO</td>\n",
       "      <td>ÓLEO DIESEL</td>\n",
       "      <td>OUTROS</td>\n",
       "      <td>90.00</td>\n",
       "      <td>2022-11-13 18:20:21.544073</td>\n",
       "    </tr>\n",
       "    <tr>\n",
       "      <th>12958</th>\n",
       "      <td>2020-12-01</td>\n",
       "      <td>GOIÁS</td>\n",
       "      <td>ÓLEO DIESEL</td>\n",
       "      <td>OUTROS</td>\n",
       "      <td>0.00</td>\n",
       "      <td>2022-11-13 18:20:21.544073</td>\n",
       "    </tr>\n",
       "    <tr>\n",
       "      <th>12959</th>\n",
       "      <td>2020-12-01</td>\n",
       "      <td>DISTRITO FEDERAL</td>\n",
       "      <td>ÓLEO DIESEL</td>\n",
       "      <td>OUTROS</td>\n",
       "      <td>0.00</td>\n",
       "      <td>2022-11-13 18:20:21.544073</td>\n",
       "    </tr>\n",
       "  </tbody>\n",
       "</table>\n",
       "<p>12960 rows × 6 columns</p>\n",
       "</div>"
      ],
      "text/plain": [
       "      year_month                  uf           product    unit    volume  \\\n",
       "0     2013-01-01            RONDÔNIA  ÓLEO DIESEL S-10      m3  81453.67   \n",
       "1     2013-01-01                ACRE  ÓLEO DIESEL S-10      m3   1483.00   \n",
       "2     2013-01-01            AMAZONAS  ÓLEO DIESEL S-10      m3   6836.30   \n",
       "3     2013-01-01             RORAIMA  ÓLEO DIESEL S-10      m3   1475.30   \n",
       "4     2013-01-01                PARÁ  ÓLEO DIESEL S-10      m3  40913.48   \n",
       "...          ...                 ...               ...     ...       ...   \n",
       "12955 2020-12-01   RIO GRANDE DO SUL       ÓLEO DIESEL  OUTROS     10.00   \n",
       "12956 2020-12-01  MATO GROSSO DO SUL       ÓLEO DIESEL  OUTROS      0.00   \n",
       "12957 2020-12-01         MATO GROSSO       ÓLEO DIESEL  OUTROS     90.00   \n",
       "12958 2020-12-01               GOIÁS       ÓLEO DIESEL  OUTROS      0.00   \n",
       "12959 2020-12-01    DISTRITO FEDERAL       ÓLEO DIESEL  OUTROS      0.00   \n",
       "\n",
       "                      created_at  \n",
       "0     2022-11-13 18:20:21.544073  \n",
       "1     2022-11-13 18:20:21.544073  \n",
       "2     2022-11-13 18:20:21.544073  \n",
       "3     2022-11-13 18:20:21.544073  \n",
       "4     2022-11-13 18:20:21.544073  \n",
       "...                          ...  \n",
       "12955 2022-11-13 18:20:21.544073  \n",
       "12956 2022-11-13 18:20:21.544073  \n",
       "12957 2022-11-13 18:20:21.544073  \n",
       "12958 2022-11-13 18:20:21.544073  \n",
       "12959 2022-11-13 18:20:21.544073  \n",
       "\n",
       "[12960 rows x 6 columns]"
      ]
     },
     "execution_count": 40,
     "metadata": {},
     "output_type": "execute_result"
    }
   ],
   "source": [
    "df_sales_diesel"
   ]
  },
  {
   "cell_type": "code",
   "execution_count": 41,
   "metadata": {},
   "outputs": [
    {
     "data": {
      "text/plain": [
       "year_month    datetime64[ns]\n",
       "uf                    object\n",
       "product               object\n",
       "unit                  object\n",
       "volume               float64\n",
       "created_at    datetime64[ns]\n",
       "dtype: object"
      ]
     },
     "execution_count": 41,
     "metadata": {},
     "output_type": "execute_result"
    }
   ],
   "source": [
    "df_sales_diesel.dtypes"
   ]
  },
  {
   "cell_type": "markdown",
   "metadata": {},
   "source": [
    "## Verify Parquet with Spark"
   ]
  },
  {
   "cell_type": "code",
   "execution_count": 42,
   "metadata": {},
   "outputs": [],
   "source": [
    "import pyspark\n",
    "from pyspark.sql import SparkSession\n",
    "from pyspark.sql.functions import year\n",
    "spark=SparkSession.builder.appName(\"parquetFile\").getOrCreate()"
   ]
  },
  {
   "cell_type": "code",
   "execution_count": 43,
   "metadata": {},
   "outputs": [
    {
     "name": "stdout",
     "output_type": "stream",
     "text": [
      "+-------------------+-------------------+----------------+----+------------------+--------------------------+-----------------+\n",
      "|year_month         |uf                 |product         |unit|volume            |created_at                |__index_level_0__|\n",
      "+-------------------+-------------------+----------------+----+------------------+--------------------------+-----------------+\n",
      "|2012-12-31 22:00:00|RONDÔNIA           |ÓLEO DIESEL S-10|m3  |81453.67          |2022-11-13 15:20:21.544073|0                |\n",
      "|2012-12-31 22:00:00|ACRE               |ÓLEO DIESEL S-10|m3  |1483.0            |2022-11-13 15:20:21.544073|1                |\n",
      "|2012-12-31 22:00:00|AMAZONAS           |ÓLEO DIESEL S-10|m3  |6836.3            |2022-11-13 15:20:21.544073|2                |\n",
      "|2012-12-31 22:00:00|RORAIMA            |ÓLEO DIESEL S-10|m3  |1475.3            |2022-11-13 15:20:21.544073|3                |\n",
      "|2012-12-31 22:00:00|PARÁ               |ÓLEO DIESEL S-10|m3  |40913.48          |2022-11-13 15:20:21.544073|4                |\n",
      "|2012-12-31 22:00:00|AMAPÁ              |ÓLEO DIESEL S-10|m3  |683.948           |2022-11-13 15:20:21.544073|5                |\n",
      "|2012-12-31 22:00:00|TOCANTINS          |ÓLEO DIESEL S-10|m3  |11771.7           |2022-11-13 15:20:21.544073|6                |\n",
      "|2012-12-31 22:00:00|MARANHÃO           |ÓLEO DIESEL S-10|m3  |12974.0           |2022-11-13 15:20:21.544073|7                |\n",
      "|2012-12-31 22:00:00|PIAUÍ              |ÓLEO DIESEL S-10|m3  |6373.25           |2022-11-13 15:20:21.544073|8                |\n",
      "|2012-12-31 22:00:00|CEARÁ              |ÓLEO DIESEL S-10|m3  |47724.922         |2022-11-13 15:20:21.544073|9                |\n",
      "|2012-12-31 22:00:00|RIO GRANDE DO NORTE|ÓLEO DIESEL S-10|m3  |3025.55           |2022-11-13 15:20:21.544073|10               |\n",
      "|2012-12-31 22:00:00|PARAÍBA            |ÓLEO DIESEL S-10|m3  |2964.5            |2022-11-13 15:20:21.544073|11               |\n",
      "|2012-12-31 22:00:00|PERNAMBUCO         |ÓLEO DIESEL S-10|m3  |94832.55          |2022-11-13 15:20:21.544073|12               |\n",
      "|2012-12-31 22:00:00|ALAGOAS            |ÓLEO DIESEL S-10|m3  |58801.636999999995|2022-11-13 15:20:21.544073|13               |\n",
      "|2012-12-31 22:00:00|SERGIPE            |ÓLEO DIESEL S-10|m3  |9882.4            |2022-11-13 15:20:21.544073|14               |\n",
      "|2012-12-31 22:00:00|BAHIA              |ÓLEO DIESEL S-10|m3  |55057.999         |2022-11-13 15:20:21.544073|15               |\n",
      "|2012-12-31 22:00:00|MINAS GERAIS       |ÓLEO DIESEL S-10|m3  |102297.806        |2022-11-13 15:20:21.544073|16               |\n",
      "|2012-12-31 22:00:00|ESPÍRITO SANTO     |ÓLEO DIESEL S-10|m3  |13020.0           |2022-11-13 15:20:21.544073|17               |\n",
      "|2012-12-31 22:00:00|RIO DE JANEIRO     |ÓLEO DIESEL S-10|m3  |92614.39          |2022-11-13 15:20:21.544073|18               |\n",
      "|2012-12-31 22:00:00|SÃO PAULO          |ÓLEO DIESEL S-10|m3  |235476.41         |2022-11-13 15:20:21.544073|19               |\n",
      "+-------------------+-------------------+----------------+----+------------------+--------------------------+-----------------+\n",
      "only showing top 20 rows\n",
      "\n"
     ]
    }
   ],
   "source": [
    "parDFdiesel=spark.read.parquet(\"./partition_files/sales_diesel.parquet\")\n",
    "parDFdiesel.show(truncate=False)"
   ]
  },
  {
   "cell_type": "code",
   "execution_count": 44,
   "metadata": {},
   "outputs": [
    {
     "name": "stdout",
     "output_type": "stream",
     "text": [
      "+-------------------+-------------------+----------+----+------------------+--------------------------+-----------------+\n",
      "|year_month         |uf                 |product   |unit|volume            |created_at                |__index_level_0__|\n",
      "+-------------------+-------------------+----------+----+------------------+--------------------------+-----------------+\n",
      "|1999-12-31 22:00:00|RONDÔNIA           |GASOLINA C|m3  |136073.25300000003|2022-11-13 15:19:53.291731|0                |\n",
      "|1999-12-31 22:00:00|ACRE               |GASOLINA C|m3  |3358.346          |2022-11-13 15:19:53.291731|1                |\n",
      "|1999-12-31 22:00:00|AMAZONAS           |GASOLINA C|m3  |20766.918         |2022-11-13 15:19:53.291731|2                |\n",
      "|1999-12-31 22:00:00|RORAIMA            |GASOLINA C|m3  |3716.032          |2022-11-13 15:19:53.291731|3                |\n",
      "|1999-12-31 22:00:00|PARÁ               |GASOLINA C|m3  |29755.907         |2022-11-13 15:19:53.291731|4                |\n",
      "|1999-12-31 22:00:00|AMAPÁ              |GASOLINA C|m3  |4096.7            |2022-11-13 15:19:53.291731|5                |\n",
      "|1999-12-31 22:00:00|TOCANTINS          |GASOLINA C|m3  |8046.45           |2022-11-13 15:19:53.291731|6                |\n",
      "|1999-12-31 22:00:00|MARANHÃO           |GASOLINA C|m3  |19185.495         |2022-11-13 15:19:53.291731|7                |\n",
      "|1999-12-31 22:00:00|PIAUÍ              |GASOLINA C|m3  |9638.45           |2022-11-13 15:19:53.291731|8                |\n",
      "|1999-12-31 22:00:00|CEARÁ              |GASOLINA C|m3  |36847.944         |2022-11-13 15:19:53.291731|9                |\n",
      "|1999-12-31 22:00:00|RIO GRANDE DO NORTE|GASOLINA C|m3  |17949.95          |2022-11-13 15:19:53.291731|10               |\n",
      "|1999-12-31 22:00:00|PARAÍBA            |GASOLINA C|m3  |20266.851         |2022-11-13 15:19:53.291731|11               |\n",
      "|1999-12-31 22:00:00|PERNAMBUCO         |GASOLINA C|m3  |51905.707         |2022-11-13 15:19:53.291731|12               |\n",
      "|1999-12-31 22:00:00|ALAGOAS            |GASOLINA C|m3  |164548.30899999995|2022-11-13 15:19:53.291731|13               |\n",
      "|1999-12-31 22:00:00|SERGIPE            |GASOLINA C|m3  |12707.571         |2022-11-13 15:19:53.291731|14               |\n",
      "|1999-12-31 22:00:00|BAHIA              |GASOLINA C|m3  |73630.193         |2022-11-13 15:19:53.291731|15               |\n",
      "|1999-12-31 22:00:00|MINAS GERAIS       |GASOLINA C|m3  |197289.3          |2022-11-13 15:19:53.291731|16               |\n",
      "|1999-12-31 22:00:00|ESPÍRITO SANTO     |GASOLINA C|m3  |34425.525         |2022-11-13 15:19:53.291731|17               |\n",
      "|1999-12-31 22:00:00|RIO DE JANEIRO     |GASOLINA C|m3  |162775.786        |2022-11-13 15:19:53.291731|18               |\n",
      "|1999-12-31 22:00:00|SÃO PAULO          |GASOLINA C|m3  |575302.161        |2022-11-13 15:19:53.291731|19               |\n",
      "+-------------------+-------------------+----------+----+------------------+--------------------------+-----------------+\n",
      "only showing top 20 rows\n",
      "\n"
     ]
    }
   ],
   "source": [
    "parDFderifuel=spark.read.parquet(\"./partition_files/sales_oil_derivative_fuels.parquet\")\n",
    "parDFderifuel.show(truncate=False)"
   ]
  }
 ],
 "metadata": {
  "kernelspec": {
   "display_name": "Python 3.9.13 ('base')",
   "language": "python",
   "name": "python3"
  },
  "language_info": {
   "codemirror_mode": {
    "name": "ipython",
    "version": 3
   },
   "file_extension": ".py",
   "mimetype": "text/x-python",
   "name": "python",
   "nbconvert_exporter": "python",
   "pygments_lexer": "ipython3",
   "version": "3.9.13"
  },
  "orig_nbformat": 4,
  "vscode": {
   "interpreter": {
    "hash": "16641c8cfe17a9d73f3b6f813f8e13124430606dcf56459ef4dd2dad73abfa35"
   }
  }
 },
 "nbformat": 4,
 "nbformat_minor": 2
}
